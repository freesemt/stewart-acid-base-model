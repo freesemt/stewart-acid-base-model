{
  "nbformat": 4,
  "nbformat_minor": 0,
  "metadata": {
    "colab": {
      "name": "StewartModel.ipynb",
      "version": "0.3.2",
      "provenance": [],
      "collapsed_sections": [],
      "include_colab_link": true
    },
    "kernelspec": {
      "name": "python3",
      "display_name": "Python 3"
    }
  },
  "cells": [
    {
      "cell_type": "markdown",
      "metadata": {
        "id": "view-in-github",
        "colab_type": "text"
      },
      "source": [
        "[View in Colaboratory](https://colab.research.google.com/github/freesemt/stewart-acid-base-model/blob/master/notebooks/StewartModel.ipynb)"
      ]
    },
    {
      "metadata": {
        "id": "3XYsuGYf4LLB",
        "colab_type": "code",
        "colab": {
          "base_uri": "https://localhost:8080/",
          "height": 35
        },
        "outputId": "1e430885-bf0b-47c2-97bb-131e0ec0bbe3"
      },
      "cell_type": "code",
      "source": [
        "%%writefile local_modules/OurUtils/StewartModel.py\n",
        "\"\"\"\n",
        "    StewartModel.py\n",
        "\n",
        "    Copyright (c) 2018, Masatsuyo Takahashi\n",
        "\"\"\"\n",
        "import numpy as np\n",
        "\n",
        "Ka  = 3e-7\n",
        "Kw  = 4.4e-14\n",
        "Kc  = 2.46e-11\n",
        "K3  = 6e-11\n",
        "\n",
        "MICRO   = 1e6\n",
        "NANO    = 1e9\n",
        "\n",
        "def Fh_impl(SID, Atot):\n",
        "    p   = [ 1,\n",
        "            Ka + SID,\n",
        "            Ka*(SID - Atot) - Kw,\n",
        "            -Ka*Kw\n",
        "            ]\n",
        "    x = sorted( list( np.roots( p ) ) )\n",
        "    return x[-1]\n",
        "\n",
        "def Fh(SID, Atot):\n",
        "    assert np.isscalar(Atot)\n",
        "\n",
        "    if np.isscalar(SID):\n",
        "        return Fh_impl(SID, Atot)\n",
        "    else:\n",
        "        return np.array( [ Fh_impl(x, Atot) for x in SID ] )\n",
        "\n",
        "def Fh4_impl(SID, Atot, pCO2):\n",
        "    p   = [ 1,\n",
        "            Ka + SID,\n",
        "            Ka*(SID - Atot) - Kw - Kc*pCO2,\n",
        "            -(Ka*(Kw + Kc*pCO2) - K3*Kc*pCO2),\n",
        "            -Ka*K3*Kc*pCO2\n",
        "            ]\n",
        "    x = sorted( list( np.roots( p ) ) )\n",
        "    # print( x )\n",
        "    return x[-1]\n",
        "\n",
        "def Fh4(SID, Atot, pCO2):\n",
        "    # assert np.isscalar(SID) or np.isscalar(pCO2)\n",
        "    assert np.isscalar(Atot)\n",
        "\n",
        "    if np.isscalar(SID):\n",
        "        if np.isscalar(pCO2):\n",
        "            return Fh4_impl(SID, Atot, pCO2)\n",
        "        else:\n",
        "            return np.array( [ Fh4_impl(SID, Atot, x) for x in pCO2 ] )\n",
        "    else:\n",
        "        if np.isscalar(pCO2):\n",
        "            return np.array( [ Fh4_impl(x, Atot, pCO2) for x in SID ] )\n",
        "        else:\n",
        "            assert len(SID.shape) == 2 and len(pCO2.shape) == 2 and SID.shape == pCO2.shape\n",
        "            row_list = []\n",
        "            for i in range(SID.shape[0]):\n",
        "                row = []\n",
        "                for j in range(SID.shape[1]):\n",
        "                    s = SID[i,j]\n",
        "                    p = pCO2[i,j]\n",
        "                    h = Fh4_impl(s, Atot, p)\n",
        "                    row.append(h)\n",
        "                row_list.append(row)\n",
        "            return np.array( row_list )\n"
      ],
      "execution_count": 1,
      "outputs": [
        {
          "output_type": "stream",
          "text": [
            "Writing local_modules/OurUtils/StewartModel.py\n"
          ],
          "name": "stdout"
        }
      ]
    }
  ]
}