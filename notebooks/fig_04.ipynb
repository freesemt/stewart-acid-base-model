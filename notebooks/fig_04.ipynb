{
  "nbformat": 4,
  "nbformat_minor": 0,
  "metadata": {
    "colab": {
      "name": "fig-04.ipynb",
      "version": "0.3.2",
      "provenance": [],
      "collapsed_sections": [],
      "include_colab_link": true
    },
    "kernelspec": {
      "name": "python3",
      "display_name": "Python 3"
    }
  },
  "cells": [
    {
      "cell_type": "markdown",
      "metadata": {
        "id": "view-in-github",
        "colab_type": "text"
      },
      "source": [
        "[View in Colaboratory](https://colab.research.google.com/github/freesemt/stewart-acid-base-model/blob/master/notebooks/fig_04.ipynb)"
      ]
    },
    {
      "metadata": {
        "id": "ku7F63S-Wi45",
        "colab_type": "code",
        "colab": {
          "base_uri": "https://localhost:8080/",
          "height": 382
        },
        "outputId": "15f1941f-a062-4450-9d80-117586cd062f"
      },
      "cell_type": "code",
      "source": [
        "import numpy                as np\n",
        "import matplotlib.pyplot    as plt\n",
        "from matplotlib.ticker import FormatStrFormatter\n",
        "import matplotlib.ticker    as ticker\n",
        "import sys\n",
        "sys.path.append('local_modules/OurUtils')\n",
        "from StewartModel import Fh, Kw\n",
        "\n",
        "KILO = 1e3\n",
        "\n",
        "Atot = 0.019\n",
        "# Atot = 0\n",
        "\n",
        "fig = plt.figure( figsize=(12, 5) )\n",
        "fig.suptitle( \"Weak Asid Solutions\" )\n",
        "\n",
        "ax1 = fig.add_subplot(121)\n",
        "ax2 = fig.add_subplot(122)\n",
        "\n",
        "ax1.set_title( \"[$H^+$] and [$OH^⁻$] versus [SID]\" )\n",
        "ax1.set_xlabel( '[SID] equiv./L' )\n",
        "ax1.set_ylabel( '[$H^+$] or [$OH^⁻$] mquiv./L' )\n",
        "ax2.set_title( \"pH versus [SID]\" )\n",
        "ax2.set_xlabel( '[SID] equiv./L' )\n",
        "ax2.set_ylabel( 'pH' )\n",
        "\n",
        "SID = np.linspace( 0, 0.03, 100 )\n",
        "H   = Fh( SID, Atot )\n",
        "OH  = Kw/H\n",
        "\n",
        "ax1.xaxis.set_major_formatter(FormatStrFormatter('%.3g'))\n",
        "ax1.yaxis.set_major_formatter(FormatStrFormatter('%.3g'))\n",
        "\n",
        "ax1.plot( SID, H*KILO, label='[$H^+$]' )\n",
        "ax1.plot( SID, OH*KILO, label='[$OH^⁻$]' )\n",
        "ax1.legend()\n",
        "\n",
        "pH  = -np.log10( H )\n",
        "ax2.plot( SID, pH, label='pH' )\n",
        "ax2.legend()\n",
        "\n",
        "fig.tight_layout()\n",
        "fig.subplots_adjust( top=0.88 )\n",
        "\n",
        "plt.show()\n"
      ],
      "execution_count": 1,
      "outputs": [
        {
          "output_type": "error",
          "ename": "ModuleNotFoundError",
          "evalue": "ignored",
          "traceback": [
            "\u001b[0;31m---------------------------------------------------------------------------\u001b[0m",
            "\u001b[0;31mModuleNotFoundError\u001b[0m                       Traceback (most recent call last)",
            "\u001b[0;32m<ipython-input-1-6269e7c23652>\u001b[0m in \u001b[0;36m<module>\u001b[0;34m()\u001b[0m\n\u001b[1;32m      5\u001b[0m \u001b[0;32mimport\u001b[0m \u001b[0msys\u001b[0m\u001b[0;34m\u001b[0m\u001b[0m\n\u001b[1;32m      6\u001b[0m \u001b[0msys\u001b[0m\u001b[0;34m.\u001b[0m\u001b[0mpath\u001b[0m\u001b[0;34m.\u001b[0m\u001b[0mappend\u001b[0m\u001b[0;34m(\u001b[0m\u001b[0;34m'local_modules/OurUtils'\u001b[0m\u001b[0;34m)\u001b[0m\u001b[0;34m\u001b[0m\u001b[0m\n\u001b[0;32m----> 7\u001b[0;31m \u001b[0;32mfrom\u001b[0m \u001b[0mStewartModel\u001b[0m \u001b[0;32mimport\u001b[0m \u001b[0mFh\u001b[0m\u001b[0;34m,\u001b[0m \u001b[0mKw\u001b[0m\u001b[0;34m\u001b[0m\u001b[0m\n\u001b[0m\u001b[1;32m      8\u001b[0m \u001b[0;34m\u001b[0m\u001b[0m\n\u001b[1;32m      9\u001b[0m \u001b[0mKILO\u001b[0m \u001b[0;34m=\u001b[0m \u001b[0;36m1e3\u001b[0m\u001b[0;34m\u001b[0m\u001b[0m\n",
            "\u001b[0;31mModuleNotFoundError\u001b[0m: No module named 'StewartModel'",
            "",
            "\u001b[0;31m---------------------------------------------------------------------------\u001b[0;32m\nNOTE: If your import is failing due to a missing package, you can\nmanually install dependencies using either !pip or !apt.\n\nTo view examples of installing some common dependencies, click the\n\"Open Examples\" button below.\n\u001b[0;31m---------------------------------------------------------------------------\u001b[0m\n"
          ]
        }
      ]
    }
  ]
}