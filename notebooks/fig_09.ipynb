{
  "nbformat": 4,
  "nbformat_minor": 0,
  "metadata": {
    "colab": {
      "name": "fig-09.ipynb",
      "version": "0.3.2",
      "provenance": [],
      "collapsed_sections": [],
      "include_colab_link": true
    },
    "kernelspec": {
      "name": "python3",
      "display_name": "Python 3"
    }
  },
  "cells": [
    {
      "cell_type": "markdown",
      "metadata": {
        "id": "view-in-github",
        "colab_type": "text"
      },
      "source": [
        "[View in Colaboratory](https://colab.research.google.com/github/freesemt/stewart-acid-base-model/blob/master/notebooks/fig_09.ipynb)"
      ]
    },
    {
      "metadata": {
        "id": "Q7kLpjX8cWPG",
        "colab_type": "code",
        "colab": {
          "base_uri": "https://localhost:8080/",
          "height": 382
        },
        "outputId": "b60b70ec-11f7-4a7e-cd04-4e3d5688fde4"
      },
      "cell_type": "code",
      "source": [
        "import numpy                as np\n",
        "import matplotlib.pyplot    as plt\n",
        "from matplotlib.ticker import FormatStrFormatter\n",
        "import sys\n",
        "sys.path.append('local_modules/OurUtils')\n",
        "from StewartModel import Fh4\n",
        "MILI = 1e-3\n",
        "NANO = 1e9\n",
        "\n",
        "Atot = [ 10, 15, 20, 25 ]\n",
        "SID = 42\n",
        "pCO2 = np.linspace(10, 90, 100)\n",
        "\n",
        "fig = plt.figure( figsize=(6, 5) )\n",
        "fig.suptitle( \"Standard Plasma\" )\n",
        "\n",
        "ax  = fig.add_subplot(111)\n",
        "ax.set_title( \"[$H^+$] versus $pCO_2$\" )\n",
        "ax.set_xlabel( \"$pCO_2$ (mmHg)\" )\n",
        "ax.set_ylabel( \"[$H^+$] (nequiv./L)\" )\n",
        "\n",
        "for atot in Atot:\n",
        "    H   = Fh4(SID*MILI, atot*MILI, pCO2 )\n",
        "    ax.plot(pCO2, H*NANO, label='[Atot] = %d mequiv./L' % atot)\n",
        "\n",
        "pCO2_ = 41\n",
        "nh  = Fh4(SID*MILI, 0.019, pCO2_ )\n",
        "ax.plot( pCO2_, nh*NANO, '+', color='red', label='normal operating point' )\n",
        "\n",
        "ax.legend()\n",
        "fig.tight_layout()\n",
        "fig.subplots_adjust( top=0.88 )\n",
        "\n",
        "plt.show()"
      ],
      "execution_count": 1,
      "outputs": [
        {
          "output_type": "error",
          "ename": "ModuleNotFoundError",
          "evalue": "ignored",
          "traceback": [
            "\u001b[0;31m---------------------------------------------------------------------------\u001b[0m",
            "\u001b[0;31mModuleNotFoundError\u001b[0m                       Traceback (most recent call last)",
            "\u001b[0;32m<ipython-input-1-ce9ab65b639f>\u001b[0m in \u001b[0;36m<module>\u001b[0;34m()\u001b[0m\n\u001b[1;32m      4\u001b[0m \u001b[0;32mimport\u001b[0m \u001b[0msys\u001b[0m\u001b[0;34m\u001b[0m\u001b[0m\n\u001b[1;32m      5\u001b[0m \u001b[0msys\u001b[0m\u001b[0;34m.\u001b[0m\u001b[0mpath\u001b[0m\u001b[0;34m.\u001b[0m\u001b[0mappend\u001b[0m\u001b[0;34m(\u001b[0m\u001b[0;34m'local_modules/OurUtils'\u001b[0m\u001b[0;34m)\u001b[0m\u001b[0;34m\u001b[0m\u001b[0m\n\u001b[0;32m----> 6\u001b[0;31m \u001b[0;32mfrom\u001b[0m \u001b[0mStewartModel\u001b[0m \u001b[0;32mimport\u001b[0m \u001b[0mFh4\u001b[0m\u001b[0;34m\u001b[0m\u001b[0m\n\u001b[0m\u001b[1;32m      7\u001b[0m \u001b[0mMILI\u001b[0m \u001b[0;34m=\u001b[0m \u001b[0;36m1e-3\u001b[0m\u001b[0;34m\u001b[0m\u001b[0m\n\u001b[1;32m      8\u001b[0m \u001b[0mNANO\u001b[0m \u001b[0;34m=\u001b[0m \u001b[0;36m1e9\u001b[0m\u001b[0;34m\u001b[0m\u001b[0m\n",
            "\u001b[0;31mModuleNotFoundError\u001b[0m: No module named 'StewartModel'",
            "",
            "\u001b[0;31m---------------------------------------------------------------------------\u001b[0;32m\nNOTE: If your import is failing due to a missing package, you can\nmanually install dependencies using either !pip or !apt.\n\nTo view examples of installing some common dependencies, click the\n\"Open Examples\" button below.\n\u001b[0;31m---------------------------------------------------------------------------\u001b[0m\n"
          ]
        }
      ]
    }
  ]
}