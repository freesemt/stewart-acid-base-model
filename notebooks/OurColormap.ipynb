{
  "nbformat": 4,
  "nbformat_minor": 0,
  "metadata": {
    "colab": {
      "name": "OurColormap.ipynb",
      "version": "0.3.2",
      "provenance": [],
      "include_colab_link": true
    },
    "kernelspec": {
      "name": "python3",
      "display_name": "Python 3"
    }
  },
  "cells": [
    {
      "cell_type": "markdown",
      "metadata": {
        "id": "view-in-github",
        "colab_type": "text"
      },
      "source": [
        "[View in Colaboratory](https://colab.research.google.com/github/freesemt/stewart-acid-base-model/blob/master/notebooks/OurColormap.ipynb)"
      ]
    },
    {
      "metadata": {
        "id": "id9VcdCg1Eil",
        "colab_type": "code",
        "colab": {
          "base_uri": "https://localhost:8080/",
          "height": 35
        },
        "outputId": "a8c484c5-2849-4fea-e19a-544a0d182002"
      },
      "cell_type": "code",
      "source": [
        "%%writefile local_modules/OurUtils/OurColormap.py\n",
        "\"\"\"\n",
        "    https://stackoverflow.com/questions/3279560/reverse-colormap-in-matplotlib\n",
        "\"\"\"\n",
        "\n",
        "import matplotlib.pyplot as plt\n",
        "import matplotlib as mpl\n",
        "def reverse_colourmap(cmap, name = 'my_cmap_r'):\n",
        "    \"\"\"\n",
        "    In: \n",
        "    cmap, name \n",
        "    Out:\n",
        "    my_cmap_r\n",
        "\n",
        "    Explanation:\n",
        "    t[0] goes from 0 to 1\n",
        "    row i:   x  y0  y1 -> t[0] t[1] t[2]\n",
        "                   /\n",
        "                  /\n",
        "    row i+1: x  y0  y1 -> t[n] t[1] t[2]\n",
        "\n",
        "    so the inverse should do the same:\n",
        "    row i+1: x  y1  y0 -> 1-t[0] t[2] t[1]\n",
        "                   /\n",
        "                  /\n",
        "    row i:   x  y1  y0 -> 1-t[n] t[2] t[1]\n",
        "    \"\"\"        \n",
        "    reverse = []\n",
        "    k = []   \n",
        "\n",
        "    for key in cmap._segmentdata:    \n",
        "        k.append(key)\n",
        "        channel = cmap._segmentdata[key]\n",
        "        data = []\n",
        "\n",
        "        for t in channel:                    \n",
        "            data.append((1-t[0],t[2],t[1]))            \n",
        "        reverse.append(sorted(data))    \n",
        "\n",
        "    LinearL = dict(zip(k,reverse))\n",
        "    my_cmap_r = mpl.colors.LinearSegmentedColormap(name, LinearL) \n",
        "    return my_cmap_r\n"
      ],
      "execution_count": 2,
      "outputs": [
        {
          "output_type": "stream",
          "text": [
            "Writing local_modules/OurUtils/OurColormap.py\n"
          ],
          "name": "stdout"
        }
      ]
    }
  ]
}