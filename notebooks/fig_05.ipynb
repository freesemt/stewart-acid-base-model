{
  "nbformat": 4,
  "nbformat_minor": 0,
  "metadata": {
    "colab": {
      "name": "fig-05.ipynb",
      "version": "0.3.2",
      "provenance": [],
      "collapsed_sections": [],
      "include_colab_link": true
    },
    "kernelspec": {
      "name": "python3",
      "display_name": "Python 3"
    }
  },
  "cells": [
    {
      "cell_type": "markdown",
      "metadata": {
        "id": "view-in-github",
        "colab_type": "text"
      },
      "source": [
        "[View in Colaboratory](https://colab.research.google.com/github/freesemt/stewart-acid-base-model/blob/master/notebooks/fig_05.ipynb)"
      ]
    },
    {
      "metadata": {
        "id": "nYuqmwoPYadO",
        "colab_type": "code",
        "colab": {
          "base_uri": "https://localhost:8080/",
          "height": 382
        },
        "outputId": "69202ebf-6205-40ec-82cb-15ca0b8201f6"
      },
      "cell_type": "code",
      "source": [
        "import numpy                as np\n",
        "import matplotlib.pyplot    as plt\n",
        "from matplotlib.ticker import FormatStrFormatter\n",
        "import matplotlib.ticker    as ticker\n",
        "import sys\n",
        "sys.path.append('local_modules/OurUtils')\n",
        "from StewartModel import Fh, Kw\n",
        "\n",
        "Atot = 0.019\n",
        "# Atot = 0\n",
        "\n",
        "fig = plt.figure( figsize=(8, 6) )\n",
        "fig.suptitle( \"Weak Asid Solutions\" )\n",
        "\n",
        "ax  = fig.add_subplot(111)\n",
        "ax.set_title( \"[HA] and [A⁻] versus [SID]\" )\n",
        "\n",
        "SID = np.linspace( -0.01, 0.03, 100 )\n",
        "H   = Fh( SID, Atot )\n",
        "OH  = Kw/H\n",
        "A   = SID + H - OH\n",
        "HA  = Atot - A\n",
        "\n",
        "ax.xaxis.set_major_formatter(FormatStrFormatter('%.3g'))\n",
        "ax.yaxis.set_major_formatter(FormatStrFormatter('%.3g'))\n",
        "ax.set_xlabel( '[SID] equiv./L' )\n",
        "ax.set_ylabel( '[HA] or [A⁻] equiv./L' )\n",
        "\n",
        "ax.plot( SID, HA, label='[HA]' )\n",
        "ax.plot( SID, A, label='[A⁻]' )\n",
        "ymin, ymax = ax.get_ylim()\n",
        "ax.set_ylim(ymin, ymax)\n",
        "x   = Atot/2\n",
        "ax.plot( [x, x], [ymin, ymax], ':', label='SID=Atot/2' )\n",
        "x   = Atot\n",
        "ax.plot( [x, x], [ymin, ymax], ':', label='SID=Atot' )\n",
        "\n",
        "ax.legend()\n",
        "fig.tight_layout()\n",
        "fig.subplots_adjust( top=0.88 )\n",
        "\n",
        "plt.show()\n"
      ],
      "execution_count": 1,
      "outputs": [
        {
          "output_type": "error",
          "ename": "ModuleNotFoundError",
          "evalue": "ignored",
          "traceback": [
            "\u001b[0;31m---------------------------------------------------------------------------\u001b[0m",
            "\u001b[0;31mModuleNotFoundError\u001b[0m                       Traceback (most recent call last)",
            "\u001b[0;32m<ipython-input-1-92ef346ef47a>\u001b[0m in \u001b[0;36m<module>\u001b[0;34m()\u001b[0m\n\u001b[1;32m      5\u001b[0m \u001b[0;32mimport\u001b[0m \u001b[0msys\u001b[0m\u001b[0;34m\u001b[0m\u001b[0m\n\u001b[1;32m      6\u001b[0m \u001b[0msys\u001b[0m\u001b[0;34m.\u001b[0m\u001b[0mpath\u001b[0m\u001b[0;34m.\u001b[0m\u001b[0mappend\u001b[0m\u001b[0;34m(\u001b[0m\u001b[0;34m'local_modules/OurUtils'\u001b[0m\u001b[0;34m)\u001b[0m\u001b[0;34m\u001b[0m\u001b[0m\n\u001b[0;32m----> 7\u001b[0;31m \u001b[0;32mfrom\u001b[0m \u001b[0mStewartModel\u001b[0m \u001b[0;32mimport\u001b[0m \u001b[0mFh\u001b[0m\u001b[0;34m,\u001b[0m \u001b[0mKw\u001b[0m\u001b[0;34m\u001b[0m\u001b[0m\n\u001b[0m\u001b[1;32m      8\u001b[0m \u001b[0;34m\u001b[0m\u001b[0m\n\u001b[1;32m      9\u001b[0m \u001b[0mAtot\u001b[0m \u001b[0;34m=\u001b[0m \u001b[0;36m0.019\u001b[0m\u001b[0;34m\u001b[0m\u001b[0m\n",
            "\u001b[0;31mModuleNotFoundError\u001b[0m: No module named 'StewartModel'",
            "",
            "\u001b[0;31m---------------------------------------------------------------------------\u001b[0;32m\nNOTE: If your import is failing due to a missing package, you can\nmanually install dependencies using either !pip or !apt.\n\nTo view examples of installing some common dependencies, click the\n\"Open Examples\" button below.\n\u001b[0;31m---------------------------------------------------------------------------\u001b[0m\n"
          ]
        }
      ]
    }
  ]
}